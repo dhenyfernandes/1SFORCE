{
 "cells": [
  {
   "cell_type": "code",
   "execution_count": null,
   "id": "celtic-hierarchy",
   "metadata": {},
   "outputs": [],
   "source": [
    "from sklearn import datasets\n",
    "from sklearn.model_selection import train_test_split\n",
    "from sklearn import svm\n",
    "from sklearn import metrics"
   ]
  },
  {
   "cell_type": "code",
   "execution_count": null,
   "id": "eleven-service",
   "metadata": {},
   "outputs": [],
   "source": [
    "#fazendo o download dos dados direto dos datasets presente na scikit-learn\n",
    "data = datasets.load_breast_cancer()\n",
    "data.feature_names"
   ]
  },
  {
   "cell_type": "code",
   "execution_count": null,
   "id": "motivated-example",
   "metadata": {},
   "outputs": [],
   "source": [
    "#variável meta (target) -> aquilos que estamos tentando prever\n",
    "#no caso: cancer benigno ou maligno\n",
    "data.target_names"
   ]
  },
  {
   "cell_type": "code",
   "execution_count": null,
   "id": "traditional-spouse",
   "metadata": {},
   "outputs": [],
   "source": [
    "#linhas x colunas\n",
    "data.data.shape"
   ]
  },
  {
   "cell_type": "code",
   "execution_count": null,
   "id": "printable-preview",
   "metadata": {},
   "outputs": [],
   "source": [
    "#visualizando as 5 primeiras amostras\n",
    "data.data[0:5]"
   ]
  },
  {
   "cell_type": "markdown",
   "id": "pressing-editor",
   "metadata": {},
   "source": [
    "## TODO 1\n",
    "> Separe o dataset em conjunto de treino e teste, sendo 70% para treino e 30% para teste"
   ]
  },
  {
   "cell_type": "code",
   "execution_count": null,
   "id": "excess-march",
   "metadata": {},
   "outputs": [],
   "source": [
    "#resposta"
   ]
  },
  {
   "cell_type": "markdown",
   "id": "numerous-acting",
   "metadata": {},
   "source": [
    "## TODO 2\n",
    "> Treine um classificador SVM usando kernel linear e outro usando kernel RBF"
   ]
  },
  {
   "cell_type": "code",
   "execution_count": null,
   "id": "signal-response",
   "metadata": {},
   "outputs": [],
   "source": [
    "#resposta linear"
   ]
  },
  {
   "cell_type": "code",
   "execution_count": null,
   "id": "hybrid-offer",
   "metadata": {},
   "outputs": [],
   "source": [
    "#resposta rbf"
   ]
  },
  {
   "cell_type": "markdown",
   "id": "white-launch",
   "metadata": {},
   "source": [
    "## TODO 3\n",
    "> Faça a predição para o conjunto de teste usando os dois kernels"
   ]
  },
  {
   "cell_type": "code",
   "execution_count": null,
   "id": "respective-broadway",
   "metadata": {},
   "outputs": [],
   "source": [
    "#resposta"
   ]
  },
  {
   "cell_type": "markdown",
   "id": "technological-bryan",
   "metadata": {},
   "source": [
    "## TODO 4\n",
    "> Obtenha a Acurácia, Precision e Recall para cada kernel"
   ]
  },
  {
   "cell_type": "code",
   "execution_count": null,
   "id": "suspected-irrigation",
   "metadata": {},
   "outputs": [],
   "source": [
    "#resposta linear"
   ]
  },
  {
   "cell_type": "code",
   "execution_count": null,
   "id": "secret-sudan",
   "metadata": {},
   "outputs": [],
   "source": [
    "#resposta brf"
   ]
  },
  {
   "cell_type": "markdown",
   "id": "boolean-police",
   "metadata": {},
   "source": [
    "## TODO 5\n",
    "> Você consegue explicar o motivos dos indicadores serem diferentes?"
   ]
  },
  {
   "cell_type": "code",
   "execution_count": null,
   "id": "forty-nightlife",
   "metadata": {},
   "outputs": [],
   "source": [
    "#resposta"
   ]
  }
 ],
 "metadata": {
  "kernelspec": {
   "display_name": "Python 3",
   "language": "python",
   "name": "python3"
  },
  "language_info": {
   "codemirror_mode": {
    "name": "ipython",
    "version": 3
   },
   "file_extension": ".py",
   "mimetype": "text/x-python",
   "name": "python",
   "nbconvert_exporter": "python",
   "pygments_lexer": "ipython3",
   "version": "3.7.5"
  }
 },
 "nbformat": 4,
 "nbformat_minor": 5
}
